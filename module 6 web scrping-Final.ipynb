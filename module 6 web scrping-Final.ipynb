{
 "cells": [
  {
   "cell_type": "code",
   "execution_count": 38,
   "id": "04e961a8",
   "metadata": {},
   "outputs": [],
   "source": [
    "## CSIS 44620 Web Mining and Applied Natural Language Processing\n",
    "## homework for Module 6\n",
    "## Presented by Ramon Torres\n",
    "## DEC 1, 2022"
   ]
  },
  {
   "cell_type": "code",
   "execution_count": 39,
   "id": "92bcced5",
   "metadata": {},
   "outputs": [
    {
     "name": "stdout",
     "output_type": "stream",
     "text": [
      "200\n",
      "text/html; charset=UTF-8\n"
     ]
    }
   ],
   "source": [
    "## 1 Prepararing access, Write code that extracts the article html from https://web.archive.org/web/20210327165005/https://hackaday.com/2021/03/22/how-laser-headlights-work/ and dumps it to a .pkl (or other appropriate file)\n",
    "import requests\n",
    "import matplotlib.pyplot as plt\n",
    "import numpy as np\n",
    "from matplotlib import colors\n",
    "from matplotlib.ticker import PercentFormatter\n",
    "\n",
    "\n",
    "response = requests.get('https://web.archive.org/web/20210327165005/https://hackaday.com/2021/03/22/how-laser-headlights-work/')\n",
    "print(response.status_code)\n",
    "print(response.headers['content-type'])\n"
   ]
  },
  {
   "cell_type": "code",
   "execution_count": 41,
   "id": "35423051",
   "metadata": {},
   "outputs": [],
   "source": [
    "from bs4 import BeautifulSoup\n",
    "\n",
    "parser = 'html.parser'\n",
    "\n",
    "soup = BeautifulSoup(response.text, parser)\n"
   ]
  },
  {
   "cell_type": "code",
   "execution_count": 42,
   "id": "6c389361",
   "metadata": {},
   "outputs": [
    {
     "name": "stdout",
     "output_type": "stream",
     "text": [
      "h1 header: <h1 class=\"site-title\">\n",
      "<a href=\"https://web.archive.org/web/20210327165005/https://hackaday.com/\" rel=\"home\">Hackaday</a>\n",
      "</h1>\n",
      "h1 text: \n",
      "Hackaday\n",
      "\n",
      "h1 header: <h1 class=\"entry-title\" itemprop=\"name\">How Laser Headlights Work</h1>\n",
      "h1 text: How Laser Headlights Work\n",
      "h1 header: <h1 class=\"screen-reader-text\">Post navigation</h1>\n",
      "h1 text: Post navigation\n",
      "h1 header: <h1 class=\"widget-title\">Search</h1>\n",
      "h1 text: Search\n",
      "h1 header: <h1 class=\"widget-title\">Never miss a hack</h1>\n",
      "h1 text: Never miss a hack\n",
      "h1 header: <h1 class=\"widget-title\">Subscribe</h1>\n",
      "h1 text: Subscribe\n",
      "h1 header: <h1 class=\"widget-title\">If you missed it</h1>\n",
      "h1 text: If you missed it\n",
      "h1 header: <h1 class=\"widget-title\">Our Columns</h1>\n",
      "h1 text: Our Columns\n",
      "h1 header: <h1 class=\"widget-title\">Search</h1>\n",
      "h1 text: Search\n",
      "h1 header: <h1 class=\"widget-title\">Never miss a hack</h1>\n",
      "h1 text: Never miss a hack\n",
      "h1 header: <h1 class=\"widget-title\">Subscribe</h1>\n",
      "h1 text: Subscribe\n",
      "h1 header: <h1 class=\"widget-title\">If you missed it</h1>\n",
      "h1 text: If you missed it\n",
      "h1 header: <h1 class=\"widget-title\">Categories</h1>\n",
      "h1 text: Categories\n",
      "h1 header: <h1 class=\"widget-title\">Our Columns</h1>\n",
      "h1 text: Our Columns\n",
      "h1 header: <h1 class=\"widget-title\">Recent comments</h1>\n",
      "h1 text: Recent comments\n",
      "h1 header: <h1 class=\"widget-title\">Now on Hackaday.io</h1>\n",
      "h1 text: Now on Hackaday.io\n",
      "h1 header: <h1 class=\"footer-widget-title\">Never miss a hack</h1>\n",
      "h1 text: Never miss a hack\n",
      "h1 header: <h1 class=\"footer-widget-title\">Subscribe to Newsletter</h1>\n",
      "h1 text: Subscribe to Newsletter\n"
     ]
    }
   ],
   "source": [
    "for header in soup.findAll('h1'):\n",
    "    print('h1 header:', header)\n",
    "    print('h1 text:', header.text)"
   ]
  },
  {
   "cell_type": "code",
   "execution_count": 43,
   "id": "5e5ffda4",
   "metadata": {},
   "outputs": [],
   "source": [
    "##1 and 2 Read in your article's html source from the file you created in question 1 and print it's text (use .get_text())\n",
    "article_page = requests.get('https://web.archive.org/web/20210327165005/https://hackaday.com/2021/03/22/how-laser-headlights-work/')\n",
    "article_html = article_page.text\n",
    "\n",
    "import pickle\n",
    "with open('python-match.pkl', 'wb') as f:\n",
    "    pickle.dump(article_page.text, f)"
   ]
  },
  {
   "cell_type": "code",
   "execution_count": 44,
   "id": "ee0c66ab",
   "metadata": {},
   "outputs": [],
   "source": [
    "with open('python-match.pkl', 'rb') as f:\n",
    "    article_html = pickle.load(f)"
   ]
  },
  {
   "cell_type": "code",
   "execution_count": 45,
   "id": "ebf42c1d",
   "metadata": {},
   "outputs": [],
   "source": [
    "soup = BeautifulSoup(article_html, parser)"
   ]
  },
  {
   "cell_type": "code",
   "execution_count": 46,
   "id": "a5142a03",
   "metadata": {},
   "outputs": [],
   "source": [
    "article_element = soup.find('article').get_text()\n"
   ]
  },
  {
   "cell_type": "code",
   "execution_count": 47,
   "id": "ea43b4d9",
   "metadata": {},
   "outputs": [
    {
     "name": "stdout",
     "output_type": "stream",
     "text": [
      "\n",
      "\n",
      "How Laser Headlights Work\n",
      "\n",
      "\n",
      "                130 Comments            \n",
      "\n",
      "by:\n",
      "Lewin Day\n",
      "\n",
      "\n",
      "\n",
      "March 22, 2021\n",
      "\n",
      "\n",
      "\n",
      "\n",
      "\n",
      "\n",
      "\n",
      "\n",
      "When we think about the onward march of automotive technology, headlights aren’t usually the first thing that come to mind. Engines, fuel efficiency, and the switch to electric power are all more front of mind. However, that doesn’t mean there aren’t thousands of engineers around the world working to improve the state of the art in automotive lighting day in, day out.\n",
      "Sealed beam headlights gave way to more modern designs once regulations loosened up, while bulbs moved from simple halogens to xenon HIDs and, more recently, LEDs. Now, a new technology is on the scene, with lasers!\n",
      "\n",
      "Laser Headlights?!\n",
      "BWM’s prototype laser headlight assemblies undergoing testing.\n",
      "The first image brought to mind by the phrase “laser headlights” is that of laser beams firing out the front of an automobile. Obviously, coherent beams of monochromatic light would make for poor illumination outside of a very specific spot quite some distance away. Thankfully for our eyes, laser headlights don’t work in this way at all.\n",
      "Instead, laser headlights consist of one or more solid state laser diodes mounted inside the headlight. These blue lasers are fired at a yellow phosphor, similar to that used in white LEDs. This produces a powerful, vibrant white light that can then be bounced off reflectors and out of the headlights towards the road. Laser headlights built in this way have several benefits. They’re more energy efficient than LEDs that put out the same amount of light, while also being more space efficient, too.\n",
      "BWM’s futuristic i8 was one of the first vehicles to ship with laser headlight technology.\n",
      "Laser headlights are still a nascent technology, thus far only appearing in a few BMW, Audi, and other select vehicles. BMW’s technology was developed in partnership with lighting experts OSRAM. In practice, a regular LED low-beam lamp is used, with the laser used to create an incredibly bright and focused spot, used for high-beams. This can provide illumination out to 600 meters ahead of the vehicle, double that of conventional LED high beams. The lights use indium gallium nitride diode lasers that were originally used in projectors, with power levels above 1 watt. One of the challenges in implementing such technology in an automotive environment is the need for it to operate at temperature extremes. While research lasers and laser pointers may primarily be used at typical room temperatures, automotive headlights must be able to withstand everything from 40 degrees below zero up to 50 degrees C. Thankfully, the laser’s high efficiency means it doesn’t have huge heat output of its own to further complicate things. Other engineering challenges involve tailoring the optics package for the rough-and-tumble, high vibration environment found in the automotive application. It’s also important to ensure, as with any such device, that the end user can’t be exposed to harmful laser radiation in the event of accident or malfunction.\n",
      "Tearing Down the Laser Headlight\n",
      "A marketing image showing the construction of an aftermarket LED/laser headlight. We’d take the laser power with a grain of salt — it’s difficult to imagine a 10 W laser shining directly on some small LEDs without melting a hole through the board in short order.\n",
      "An aftermarket has sprung up too, with delightfully innovative designs. Combined laser/LED headlights are readily available on Alibaba, designed as a drop in replacement for projector lamps on existing vehicles. These often use an LED low-beam, and a combined LED/laser high beam, where the laser diode shoots directly at the LED phosphor to excite it further, rather than using its own. These units often also come with fan cooling to keep the laser and LEDs below their maximum operational temperature. Such developments are exciting, though it’s important to be wary of the performance of unknown aftermarket headlights. Many aftermarket LED headlight “upgrades” fail to pass muster when it comes to real-world performance, and there’s no reason to believe hybrid LED/laser designs will be any different. We’d love to pass a selection of these parts through a full IIHS test protocol, but that’s sadly beyond the scope (and budget!) of this article.\n",
      "However, [mikeselectricstuff] has happened to lay his hands on both the BMW and aftermarket parts, tearing them all down in his workshop to see what makes them tick. The differences are multitude when laid bare on the bench. The AliExpress part is relatively simple, wired up no differently from a regular headlight. Interestingly, however, the laser high-beam circuit runs all the time in these parts. To prevent blinding other road users, a shutter is kept in place to block the light, which is moved out of the way with a solenoid when the driver turns on the high beam switch.\n",
      "Where the aftermarket part is a little out of left field, the BMW design is another thing entirely. The cutting-edge headlights are hooked up with multiple connectors and over 30 conductors, with much of the driver electronics living in an external controller. Much of this is to drive the various LEDs and stepper motors for slewing the headlights when steering. However, the laser assembly brings its own complexities. Twin light sensors are built inside to monitor the laser beam, and a special metal blocking arm sits directly in front of the diode, presumably to stop the laser light leaving the headlight in the event the phosphor coating burns through. It’s truly wild to get a look inside a modern luxury car’s headlight and see just how far we’ve come from the old days of simple sealed beams.\n",
      "Cost Versus Performance\n",
      "Despite the efficiency gains available, the technology remains expensive. Powerful laser diodes don’t come cheap, after all. However, as the technology trickles down to lower-end models, it’s likely that we could see economies of scale change that for the better. Indeed, if national authorities begin to demand higher performance headlights as standard, we could see laser headlights become the norm, rather than an expensive luxury. The technology could naturally be applied to home and commercial lighting, too — though we suspect the potential gains are limited enough that LED lighting will remain the norm for some time to come.\n",
      "The high light output of laser headlights in a compact package allows engineers greater freedom when designing the front-end of a car.\n",
      "As it currently stands, much of the appeal of the new technology is about the packaging benefits, which allow automotive designers greater freedom around the headlight area. Such concerns are less of a factor when it comes to light fittings in the home or office, or indeed, on lower-end automobiles. Regardless, it’s an exciting new application for lasers and one we’ll be sure to see more of in the future.\n",
      " \n",
      "\n",
      "\n",
      "\n",
      "\n",
      " \n",
      "\n",
      "\n",
      "\n",
      "\n",
      "\n",
      "\n",
      "\n",
      "\n",
      "\n",
      "\n",
      "\n",
      "\n",
      "\n",
      "\n",
      "\n",
      "\n",
      "\n",
      "\n",
      "\n",
      "Posted in car hacks, Engineering, Featured, Laser Hacks, SliderTagged laser, laser headlight, laser headlights, light \n",
      "\n"
     ]
    }
   ],
   "source": [
    "print(article_element)\n",
    "##.get_text()"
   ]
  },
  {
   "cell_type": "code",
   "execution_count": 48,
   "id": "251912c3",
   "metadata": {},
   "outputs": [
    {
     "name": "stdout",
     "output_type": "stream",
     "text": [
      "Polarity: 0.1325758769416858\n"
     ]
    }
   ],
   "source": [
    "## 3. Load the article text into a trained spaCy pipeline, and determine the 5 most frequent tokens (converted to lower case). Print the common tokens with an appropriate label. Additionally, print the tokens their frequencies (with appropriate labels). Make sure to remove things we don't care about (punctuation, stopwords, whitespace).\n",
    "import spacy\n",
    "from spacytextblob.spacytextblob import SpacyTextBlob\n",
    "## 3. Load the article text into a trained spaCy pipeline, and determine the 5 most frequent lemmas (converted to lower case). Print the common lemmas with an appropriate label. Additionally, print the lemmas with their frequencies (with appropriate labels). Make sure to remove things we don't care about (punctuation, stopwords, whitespace).\n",
    "\n",
    "nlp = spacy.load('en_core_web_sm')\n",
    "nlp.add_pipe('spacytextblob')\n",
    "doc = nlp(article_element)\n",
    "\n",
    "## Check for polarity for BONUS Points\n",
    "print(f'Polarity: {doc._.polarity}')"
   ]
  },
  {
   "cell_type": "markdown",
   "id": "0245115e",
   "metadata": {},
   "source": [
    "## Polarity calcularion added, showing positive value of 0.13257, showing some positive sentiment."
   ]
  },
  {
   "cell_type": "code",
   "execution_count": 65,
   "id": "836c510b",
   "metadata": {},
   "outputs": [
    {
     "name": "stdout",
     "output_type": "stream",
     "text": [
      "[('laser', 29), ('headlights', 17), ('technology', 10), ('headlight', 10), ('LED', 10), ('light', 9), ('high', 8), ('beam', 7), ('Laser', 6), ('automotive', 6)]\n"
     ]
    }
   ],
   "source": [
    "#3 Load the article text into a trained spaCy pipeline, and determine the 5 most frequent tokens\n",
    "import spacy\n",
    "from spacytextblob.spacytextblob import SpacyTextBlob\n",
    "from collections import Counter\n",
    "\n",
    "nlp = spacy.load('en_core_web_sm')\n",
    "nlp.add_pipe('spacytextblob')\n",
    "doc = nlp(article_element)\n",
    "\n",
    "def we_care_about(token):\n",
    "    return not (token.is_space or token.is_punct or token.is_stop)\n",
    "\n",
    "interesting_tokens = [token for token in doc if we_care_about(token)]\n",
    "word_freq = Counter(map(str,interesting_tokens))\n",
    "print(word_freq.most_common(10))"
   ]
  },
  {
   "cell_type": "code",
   "execution_count": 49,
   "id": "5a39f210",
   "metadata": {},
   "outputs": [
    {
     "name": "stdout",
     "output_type": "stream",
     "text": [
      "[How, Laser, Headlights, Work, 130, Comments, by, :, Lewin, Day, March, 22, ,, 2021, When, we, think, about, the, onward, march, of, automotive, technology, ,, headlights, are, n’t, usually, the, first, thing, that, come, to, mind, ., Engines, ,, fuel, efficiency, ,, and, the, switch, to, electric, power, are, all, more, front, of, mind, ., However, ,, that, does, n’t, mean, there, are, n’t, thousands, of, engineers, around, the, world, working, to, improve, the, state, of, the, art, in, automotive, lighting, day, in, ,, day, out, ., Sealed, beam, headlights, gave, way, to, more, modern, designs, once, regulations, loosened, up, ,, while, bulbs, moved, from, simple, halogens, to, xenon, HIDs, and, ,, more, recently, ,, LEDs, ., Now, ,, a, new, technology, is, on, the, scene, ,, with, lasers, !, Laser, Headlights, ?, !, BWM, ’s, prototype, laser, headlight, assemblies, undergoing, testing, ., The, first, image, brought, to, mind, by, the, phrase, “, laser, headlights, ”, is, that, of, laser, beams, firing, out, the, front, of, an, automobile, ., Obviously, ,, coherent, beams, of, monochromatic, light, would, make, for, poor, illumination, outside, of, a, very, specific, spot, quite, some, distance, away, ., Thankfully, for, our, eyes, ,, laser, headlights, do, n’t, work, in, this, way, at, all, ., Instead, ,, laser, headlights, consist, of, one, or, more, solid, state, laser, diodes, mounted, inside, the, headlight, ., These, blue, lasers, are, fired, at, a, yellow, phosphor, ,, similar, to, that, used, in, white, LEDs, ., This, produces, a, powerful, ,, vibrant, white, light, that, can, then, be, bounced, off, reflectors, and, out, of, the, headlights, towards, the, road, ., Laser, headlights, built, in, this, way, have, several, benefits, ., They, ’re, more, energy, efficient, than, LEDs, that, put, out, the, same, amount, of, light, ,, while, also, being, more, space, efficient, ,, too, ., BWM, ’s, futuristic, i8, was, one, of, the, first, vehicles, to, ship, with, laser, headlight, technology, ., Laser, headlights, are, still, a, nascent, technology, ,, thus, far, only, appearing, in, a, few, BMW, ,, Audi, ,, and, other, select, vehicles, ., BMW, ’s, technology, was, developed, in, partnership, with, lighting, experts, OSRAM, ., In, practice, ,, a, regular, LED, low, -, beam, lamp, is, used, ,, with, the, laser, used, to, create, an, incredibly, bright, and, focused, spot, ,, used, for, high, -, beams, ., This, can, provide, illumination, out, to, 600, meters, ahead, of, the, vehicle, ,, double, that, of, conventional, LED, high, beams, ., The, lights, use, indium, gallium, nitride, diode, lasers, that, were, originally, used, in, projectors, ,, with, power, levels, above, 1, watt, ., One, of, the, challenges, in, implementing, such, technology, in, an, automotive, environment, is, the, need, for, it, to, operate, at, temperature, extremes, ., While, research, lasers, and, laser, pointers, may, primarily, be, used, at, typical, room, temperatures, ,, automotive, headlights, must, be, able, to, withstand, everything, from, 40, degrees, below, zero, up, to, 50, degrees, C., Thankfully, ,, the, laser, ’s, high, efficiency, means, it, does, n’t, have, huge, heat, output, of, its, own, to, further, complicate, things, ., Other, engineering, challenges, involve, tailoring, the, optics, package, for, the, rough, -, and, -, tumble, ,, high, vibration, environment, found, in, the, automotive, application, ., It, ’s, also, important, to, ensure, ,, as, with, any, such, device, ,, that, the, end, user, ca, n’t, be, exposed, to, harmful, laser, radiation, in, the, event, of, accident, or, malfunction, ., Tearing, Down, the, Laser, Headlight, A, marketing, image, showing, the, construction, of, an, aftermarket, LED, /, laser, headlight, ., We, ’d, take, the, laser, power, with, a, grain, of, salt, —, it, ’s, difficult, to, imagine, a, 10, W, laser, shining, directly, on, some, small, LEDs, without, melting, a, hole, through, the, board, in, short, order, ., An, aftermarket, has, sprung, up, too, ,, with, delightfully, innovative, designs, ., Combined, laser, /, LED, headlights, are, readily, available, on, Alibaba, ,, designed, as, a, drop, in, replacement, for, projector, lamps, on, existing, vehicles, ., These, often, use, an, LED, low, -, beam, ,, and, a, combined, LED, /, laser, high, beam, ,, where, the, laser, diode, shoots, directly, at, the, LED, phosphor, to, excite, it, further, ,, rather, than, using, its, own, ., These, units, often, also, come, with, fan, cooling, to, keep, the, laser, and, LEDs, below, their, maximum, operational, temperature, ., Such, developments, are, exciting, ,, though, it, ’s, important, to, be, wary, of, the, performance, of, unknown, aftermarket, headlights, ., Many, aftermarket, LED, headlight, “, upgrades, ”, fail, to, pass, muster, when, it, comes, to, real, -, world, performance, ,, and, there, ’s, no, reason, to, believe, hybrid, LED, /, laser, designs, will, be, any, different, ., We, ’d, love, to, pass, a, selection, of, these, parts, through, a, full, IIHS, test, protocol, ,, but, that, ’s, sadly, beyond, the, scope, (, and, budget, !, ), of, this, article, ., However, ,, [, mikeselectricstuff, ], has, happened, to, lay, his, hands, on, both, the, BMW, and, aftermarket, parts, ,, tearing, them, all, down, in, his, workshop, to, see, what, makes, them, tick, ., The, differences, are, multitude, when, laid, bare, on, the, bench, ., The, AliExpress, part, is, relatively, simple, ,, wired, up, no, differently, from, a, regular, headlight, ., Interestingly, ,, however, ,, the, laser, high, -, beam, circuit, runs, all, the, time, in, these, parts, ., To, prevent, blinding, other, road, users, ,, a, shutter, is, kept, in, place, to, block, the, light, ,, which, is, moved, out, of, the, way, with, a, solenoid, when, the, driver, turns, on, the, high, beam, switch, ., Where, the, aftermarket, part, is, a, little, out, of, left, field, ,, the, BMW, design, is, another, thing, entirely, ., The, cutting, -, edge, headlights, are, hooked, up, with, multiple, connectors, and, over, 30, conductors, ,, with, much, of, the, driver, electronics, living, in, an, external, controller, ., Much, of, this, is, to, drive, the, various, LEDs, and, stepper, motors, for, slewing, the, headlights, when, steering, ., However, ,, the, laser, assembly, brings, its, own, complexities, ., Twin, light, sensors, are, built, inside, to, monitor, the, laser, beam, ,, and, a, special, metal, blocking, arm, sits, directly, in, front, of, the, diode, ,, presumably, to, stop, the, laser, light, leaving, the, headlight, in, the, event, the, phosphor, coating, burns, through, ., It, ’s, truly, wild, to, get, a, look, inside, a, modern, luxury, car, ’s, headlight, and, see, just, how, far, we, ’ve, come, from, the, old, days, of, simple, sealed, beams, ., Cost, Versus, Performance, Despite, the, efficiency, gains, available, ,, the, technology, remains, expensive, ., Powerful, laser, diodes, do, n’t, come, cheap, ,, after, all, ., However, ,, as, the, technology, trickles, down, to, lower, -, end, models, ,, it, ’s, likely, that, we, could, see, economies, of, scale, change, that, for, the, better, ., Indeed, ,, if, national, authorities, begin, to, demand, higher, performance, headlights, as, standard, ,, we, could, see, laser, headlights, become, the, norm, ,, rather, than, an, expensive, luxury, ., The, technology, could, naturally, be, applied, to, home, and, commercial, lighting, ,, too, —, though, we, suspect, the, potential, gains, are, limited, enough, that, LED, lighting, will, remain, the, norm, for, some, time, to, come, ., The, high, light, output, of, laser, headlights, in, a, compact, package, allows, engineers, greater, freedom, when, designing, the, front, -, end, of, a, car, ., As, it, currently, stands, ,, much, of, the, appeal, of, the, new, technology, is, about, the, packaging, benefits, ,, which, allow, automotive, designers, greater, freedom, around, the, headlight, area, ., Such, concerns, are, less, of, a, factor, when, it, comes, to, light, fittings, in, the, home, or, office, ,, or, indeed, ,, on, lower, -, end, automobiles, ., Regardless, ,, it, ’s, an, exciting, new, application, for, lasers, and, one, we, ’ll, be, sure, to, see, more, of, in, the, future, ., Posted, in, car, hacks, ,, Engineering, ,, Featured, ,, Laser, Hacks, ,, SliderTagged, laser, ,, laser, headlight, ,, laser, headlights, ,, light]\n"
     ]
    }
   ],
   "source": [
    "# 3. Define the following methods and following on 3 to find details about the articles, such as tokens, frequent words and lemmas\n",
    "non_ws_tokens = []\n",
    "for token in doc:\n",
    "    if not token.is_space:\n",
    "        non_ws_tokens.append(token)\n",
    "print(non_ws_tokens)"
   ]
  },
  {
   "cell_type": "code",
   "execution_count": 50,
   "id": "9725f5ca",
   "metadata": {},
   "outputs": [
    {
     "name": "stdout",
     "output_type": "stream",
     "text": [
      "[How, Laser, Headlights, Work, 130, Comments, by, Lewin, Day, March, 22, 2021, When, we, think, about, the, onward, march, of, automotive, technology, headlights, are, n’t, usually, the, first, thing, that, come, to, mind, Engines, fuel, efficiency, and, the, switch, to, electric, power, are, all, more, front, of, mind, However, that, does, n’t, mean, there, are, n’t, thousands, of, engineers, around, the, world, working, to, improve, the, state, of, the, art, in, automotive, lighting, day, in, day, out, Sealed, beam, headlights, gave, way, to, more, modern, designs, once, regulations, loosened, up, while, bulbs, moved, from, simple, halogens, to, xenon, HIDs, and, more, recently, LEDs, Now, a, new, technology, is, on, the, scene, with, lasers, Laser, Headlights, BWM, ’s, prototype, laser, headlight, assemblies, undergoing, testing, The, first, image, brought, to, mind, by, the, phrase, laser, headlights, is, that, of, laser, beams, firing, out, the, front, of, an, automobile, Obviously, coherent, beams, of, monochromatic, light, would, make, for, poor, illumination, outside, of, a, very, specific, spot, quite, some, distance, away, Thankfully, for, our, eyes, laser, headlights, do, n’t, work, in, this, way, at, all, Instead, laser, headlights, consist, of, one, or, more, solid, state, laser, diodes, mounted, inside, the, headlight, These, blue, lasers, are, fired, at, a, yellow, phosphor, similar, to, that, used, in, white, LEDs, This, produces, a, powerful, vibrant, white, light, that, can, then, be, bounced, off, reflectors, and, out, of, the, headlights, towards, the, road, Laser, headlights, built, in, this, way, have, several, benefits, They, ’re, more, energy, efficient, than, LEDs, that, put, out, the, same, amount, of, light, while, also, being, more, space, efficient, too, BWM, ’s, futuristic, i8, was, one, of, the, first, vehicles, to, ship, with, laser, headlight, technology, Laser, headlights, are, still, a, nascent, technology, thus, far, only, appearing, in, a, few, BMW, Audi, and, other, select, vehicles, BMW, ’s, technology, was, developed, in, partnership, with, lighting, experts, OSRAM, In, practice, a, regular, LED, low, beam, lamp, is, used, with, the, laser, used, to, create, an, incredibly, bright, and, focused, spot, used, for, high, beams, This, can, provide, illumination, out, to, 600, meters, ahead, of, the, vehicle, double, that, of, conventional, LED, high, beams, The, lights, use, indium, gallium, nitride, diode, lasers, that, were, originally, used, in, projectors, with, power, levels, above, 1, watt, One, of, the, challenges, in, implementing, such, technology, in, an, automotive, environment, is, the, need, for, it, to, operate, at, temperature, extremes, While, research, lasers, and, laser, pointers, may, primarily, be, used, at, typical, room, temperatures, automotive, headlights, must, be, able, to, withstand, everything, from, 40, degrees, below, zero, up, to, 50, degrees, C., Thankfully, the, laser, ’s, high, efficiency, means, it, does, n’t, have, huge, heat, output, of, its, own, to, further, complicate, things, Other, engineering, challenges, involve, tailoring, the, optics, package, for, the, rough, and, tumble, high, vibration, environment, found, in, the, automotive, application, It, ’s, also, important, to, ensure, as, with, any, such, device, that, the, end, user, ca, n’t, be, exposed, to, harmful, laser, radiation, in, the, event, of, accident, or, malfunction, Tearing, Down, the, Laser, Headlight, A, marketing, image, showing, the, construction, of, an, aftermarket, LED, laser, headlight, We, ’d, take, the, laser, power, with, a, grain, of, salt, it, ’s, difficult, to, imagine, a, 10, W, laser, shining, directly, on, some, small, LEDs, without, melting, a, hole, through, the, board, in, short, order, An, aftermarket, has, sprung, up, too, with, delightfully, innovative, designs, Combined, laser, LED, headlights, are, readily, available, on, Alibaba, designed, as, a, drop, in, replacement, for, projector, lamps, on, existing, vehicles, These, often, use, an, LED, low, beam, and, a, combined, LED, laser, high, beam, where, the, laser, diode, shoots, directly, at, the, LED, phosphor, to, excite, it, further, rather, than, using, its, own, These, units, often, also, come, with, fan, cooling, to, keep, the, laser, and, LEDs, below, their, maximum, operational, temperature, Such, developments, are, exciting, though, it, ’s, important, to, be, wary, of, the, performance, of, unknown, aftermarket, headlights, Many, aftermarket, LED, headlight, upgrades, fail, to, pass, muster, when, it, comes, to, real, world, performance, and, there, ’s, no, reason, to, believe, hybrid, LED, laser, designs, will, be, any, different, We, ’d, love, to, pass, a, selection, of, these, parts, through, a, full, IIHS, test, protocol, but, that, ’s, sadly, beyond, the, scope, and, budget, of, this, article, However, mikeselectricstuff, has, happened, to, lay, his, hands, on, both, the, BMW, and, aftermarket, parts, tearing, them, all, down, in, his, workshop, to, see, what, makes, them, tick, The, differences, are, multitude, when, laid, bare, on, the, bench, The, AliExpress, part, is, relatively, simple, wired, up, no, differently, from, a, regular, headlight, Interestingly, however, the, laser, high, beam, circuit, runs, all, the, time, in, these, parts, To, prevent, blinding, other, road, users, a, shutter, is, kept, in, place, to, block, the, light, which, is, moved, out, of, the, way, with, a, solenoid, when, the, driver, turns, on, the, high, beam, switch, Where, the, aftermarket, part, is, a, little, out, of, left, field, the, BMW, design, is, another, thing, entirely, The, cutting, edge, headlights, are, hooked, up, with, multiple, connectors, and, over, 30, conductors, with, much, of, the, driver, electronics, living, in, an, external, controller, Much, of, this, is, to, drive, the, various, LEDs, and, stepper, motors, for, slewing, the, headlights, when, steering, However, the, laser, assembly, brings, its, own, complexities, Twin, light, sensors, are, built, inside, to, monitor, the, laser, beam, and, a, special, metal, blocking, arm, sits, directly, in, front, of, the, diode, presumably, to, stop, the, laser, light, leaving, the, headlight, in, the, event, the, phosphor, coating, burns, through, It, ’s, truly, wild, to, get, a, look, inside, a, modern, luxury, car, ’s, headlight, and, see, just, how, far, we, ’ve, come, from, the, old, days, of, simple, sealed, beams, Cost, Versus, Performance, Despite, the, efficiency, gains, available, the, technology, remains, expensive, Powerful, laser, diodes, do, n’t, come, cheap, after, all, However, as, the, technology, trickles, down, to, lower, end, models, it, ’s, likely, that, we, could, see, economies, of, scale, change, that, for, the, better, Indeed, if, national, authorities, begin, to, demand, higher, performance, headlights, as, standard, we, could, see, laser, headlights, become, the, norm, rather, than, an, expensive, luxury, The, technology, could, naturally, be, applied, to, home, and, commercial, lighting, too, though, we, suspect, the, potential, gains, are, limited, enough, that, LED, lighting, will, remain, the, norm, for, some, time, to, come, The, high, light, output, of, laser, headlights, in, a, compact, package, allows, engineers, greater, freedom, when, designing, the, front, end, of, a, car, As, it, currently, stands, much, of, the, appeal, of, the, new, technology, is, about, the, packaging, benefits, which, allow, automotive, designers, greater, freedom, around, the, headlight, area, Such, concerns, are, less, of, a, factor, when, it, comes, to, light, fittings, in, the, home, or, office, or, indeed, on, lower, end, automobiles, Regardless, it, ’s, an, exciting, new, application, for, lasers, and, one, we, ’ll, be, sure, to, see, more, of, in, the, future, Posted, in, car, hacks, Engineering, Featured, Laser, Hacks, SliderTagged, laser, laser, headlight, laser, headlights, light]\n"
     ]
    }
   ],
   "source": [
    "def we_care_about(token):\n",
    "    return not (token.is_space or token.is_punct)\n",
    "\n",
    "interesting_tokens = [token for token in doc if we_care_about(token)]\n",
    "print(interesting_tokens)"
   ]
  },
  {
   "cell_type": "code",
   "execution_count": 51,
   "id": "cc998781",
   "metadata": {},
   "outputs": [
    {
     "name": "stdout",
     "output_type": "stream",
     "text": [
      "[('the', 68), ('to', 37), ('of', 36), ('laser', 29), ('in', 24), ('a', 24), ('and', 18), ('headlights', 17), ('that', 13), ('’s', 13)]\n"
     ]
    }
   ],
   "source": [
    "from collections import Counter\n",
    "word_freq = Counter(map(str,interesting_tokens))\n",
    "print(word_freq.most_common(10))"
   ]
  },
  {
   "cell_type": "code",
   "execution_count": 66,
   "id": "a2ab18d0",
   "metadata": {},
   "outputs": [
    {
     "name": "stdout",
     "output_type": "stream",
     "text": [
      "[('laser', 29), ('headlights', 17), ('technology', 10), ('headlight', 10), ('LED', 10), ('light', 9), ('high', 8), ('beam', 7), ('Laser', 6), ('automotive', 6)]\n"
     ]
    }
   ],
   "source": [
    "#3 Finding most common tokens\n",
    "import matplotlib.pyplot as plt\n",
    "import numpy as np\n",
    "from matplotlib import colors\n",
    "from matplotlib.ticker import PercentFormatter\n",
    "def we_care_about(token):\n",
    "    return not (token.is_space or token.is_punct or token.is_stop)\n",
    "\n",
    "interesting_tokens = [token for token in doc if we_care_about(token)]\n",
    "word_freq = Counter(map(str,interesting_tokens))\n",
    "print(word_freq.most_common(10))"
   ]
  },
  {
   "cell_type": "code",
   "execution_count": 54,
   "id": "a6f286ef",
   "metadata": {},
   "outputs": [
    {
     "name": "stdout",
     "output_type": "stream",
     "text": [
      "[('laser', 34), ('headlight', 27), ('beam', 12), ('led', 11), ('technology', 10), ('light', 10), ('high', 9), ('come', 7), ('Laser', 6), ('automotive', 6)]\n"
     ]
    }
   ],
   "source": [
    "#4 Finding most common lemmas\n",
    "interesting_lemmas = [token.lemma_ for token in doc if we_care_about(token)]\n",
    "lemma_freq = Counter(interesting_lemmas)\n",
    "print(lemma_freq.most_common(10))"
   ]
  },
  {
   "cell_type": "code",
   "execution_count": 55,
   "id": "82a392f0",
   "metadata": {},
   "outputs": [
    {
     "name": "stdout",
     "output_type": "stream",
     "text": [
      "sentence: When we think about the onward march of automotive technology, headlights aren’t usually the first thing that come to mind. tokens: 2 words: 21 score: 0.09523809523809523\n",
      "sentence: When we think about the onward march of automotive technology, headlights aren’t usually the first thing that come to mind. lemmas: 2 words: 21 score: 0.09523809523809523\n"
     ]
    }
   ],
   "source": [
    "## 5. Make a list containing the scores (using tokens) of every sentence in the article, and plot a histogram with appropriate titles and axis labels of the scores. From your histogram, what seems to be the most common range of scores (put the answer in a comment after your code)?\n",
    "\n",
    "interesting_token = list()\n",
    "for token, freq in word_freq.most_common(5):\n",
    "    interesting_token.append(token)\n",
    "\n",
    "interesting_lemma = set()\n",
    "for lemma, freq in lemma_freq.most_common(5):\n",
    "    interesting_lemma.add(lemma)\n",
    "\n",
    "sentences = list(doc.sents)\n",
    "stringlist = list()\n",
    "nmwrds = list()\n",
    "for sentence in sentences:\n",
    "    scount = 0\n",
    "    sent_str = str(sentence).replace('\\n','').replace('  ',' ')\n",
    "    stringlist.append(sent_str)\n",
    "    for token in sentence:\n",
    "        if not(token.is_space or token.is_punct):\n",
    "            scount +=1\n",
    "    nmwrds.append(scount)\n",
    "\n",
    "def score_sentence_by_token(sentence, interesting_token):\n",
    "    tcount = 0\n",
    "    for token in sentences[sentence]:\n",
    "        if token.text.lower() in interesting_token:\n",
    "            tcount += 1\n",
    "    if tcount == 0:\n",
    "        print('No interesting tokens')\n",
    "    tscore = tcount/nmwrds[sentence]\n",
    "    print('sentence:',stringlist[sentence], 'tokens:',tcount,'words:',nmwrds[sentence],'score:',tscore)\n",
    "\n",
    "def score_sentence_by_lemma(sentence, interesting_lemma):\n",
    "    lcount = 0\n",
    "    for token in sentences[1]:\n",
    "        if token.lemma_.lower() in interesting_lemma:\n",
    "            lcount += 1\n",
    "    if lcount == 0:\n",
    "        print('No interesting lemmas')\n",
    "    lscore = lcount/nmwrds[sentence]\n",
    "    print('sentence:',stringlist[sentence], 'lemmas:',lcount,'words:',nmwrds[sentence],'score:',lscore)\n",
    "    \n",
    "score_sentence_by_token(1, interesting_token)\n",
    "score_sentence_by_lemma(1, interesting_lemma)\n",
    "\n"
   ]
  },
  {
   "cell_type": "code",
   "execution_count": 56,
   "id": "abad7788",
   "metadata": {},
   "outputs": [
    {
     "data": {
      "image/png": "[encoded data removed]",
      "text/plain": [
       "<Figure size 432x288 with 1 Axes>"
      ]
     },
     "metadata": {
      "needs_background": "light"
     },
     "output_type": "display_data"
    }
   ],
   "source": [
    "#6 Visualating scores tokens using histograms\n",
    "\n",
    "import matplotlib.pyplot as plt\n",
    "import numpy as np\n",
    "nmtkns = list()\n",
    "tscores = list()\n",
    "for sentence in sentences:\n",
    "    tcount = 0\n",
    "    for token in sentence:\n",
    "        if token.text.lower() in interesting_token:\n",
    "            tcount +=1\n",
    "    nmtkns.append(tcount)\n",
    "for i in nmwrds:\n",
    "    tscores = [t/w for t,w in zip(nmtkns,nmwrds)]\n",
    "\n",
    "x = np.array(tscores)  \n",
    "plt.hist(x)\n",
    "plt.xlabel('Scores')\n",
    "plt.ylabel('Frequency')\n",
    "plt.title('Tokens Histogram')\n",
    "plt.xticks(np.arange(0, 1, 0.1))\n",
    "plt.show()"
   ]
  },
  {
   "cell_type": "markdown",
   "id": "94f2f274",
   "metadata": {},
   "source": [
    "## Top range from 0 to 0.1"
   ]
  },
  {
   "cell_type": "code",
   "execution_count": 57,
   "id": "ab811176",
   "metadata": {},
   "outputs": [
    {
     "data": {
      "text/plain": [
       "(array([[2., 0., 0., 0., 0., 0., 0., 0., 0., 0.],\n",
       "        [0., 2., 0., 0., 0., 0., 0., 0., 0., 0.],\n",
       "        [0., 0., 1., 1., 0., 0., 0., 0., 0., 0.],\n",
       "        [0., 0., 0., 2., 0., 0., 0., 0., 0., 0.],\n",
       "        [0., 0., 0., 1., 1., 0., 0., 0., 0., 0.],\n",
       "        [0., 0., 0., 0., 0., 2., 0., 0., 0., 0.],\n",
       "        [0., 0., 0., 0., 0., 0., 2., 0., 0., 0.],\n",
       "        [0., 0., 0., 0., 0., 0., 0., 1., 1., 0.],\n",
       "        [0., 0., 0., 0., 0., 0., 0., 0., 1., 1.],\n",
       "        [0., 0., 0., 0., 0., 0., 0., 0., 0., 2.]]),\n",
       " array([ 0. ,  1.6,  3.2,  4.8,  6.4,  8. ,  9.6, 11.2, 12.8, 14.4, 16. ]),\n",
       " <a list of 10 BarContainer objects>)"
      ]
     },
     "execution_count": 57,
     "metadata": {},
     "output_type": "execute_result"
    },
    {
     "data": {
      "image/png": "[encoded data removed]",
      "text/plain": [
       "<Figure size 432x288 with 1 Axes>"
      ]
     },
     "metadata": {
      "needs_background": "light"
     },
     "output_type": "display_data"
    }
   ],
   "source": [
    "## 6 Added for bonus: Make a list containing frequent words(using tokens) of every sentence in the article, and plot a histogram with appropriate titles and axis labels of the scores. From your histogram, what seems to be the most common range of scores (put the answer in a comment after your code)?\n",
    "plt.xlabel('Interesting tokens')\n",
    "plt.ylabel('Frequency')\n",
    "plt.title('Histogram of most interesting tokens')\n",
    "plt.hist(word_freq.most_common(10))"
   ]
  },
  {
   "cell_type": "code",
   "execution_count": 58,
   "id": "a74e7ba0",
   "metadata": {},
   "outputs": [
    {
     "data": {
      "image/png": "[encoded data removed]",
      "text/plain": [
       "<Figure size 432x288 with 1 Axes>"
      ]
     },
     "metadata": {
      "needs_background": "light"
     },
     "output_type": "display_data"
    }
   ],
   "source": [
    "#7 Visualating lemmas tokens using histograms\n",
    "\n",
    "import matplotlib.pyplot as plt\n",
    "import numpy as np\n",
    "\n",
    "nmlmas = list()\n",
    "lscores = list()\n",
    "for sentence in sentences:\n",
    "    lcount = 0\n",
    "    for token in sentence:\n",
    "        if token.lemma_.lower() in interesting_lemma:\n",
    "            lcount +=1\n",
    "    nmlmas.append(lcount)\n",
    "for i in nmlmas:\n",
    "    lscores = [t/w for t,w in zip(nmlmas,nmwrds)]\n",
    "\n",
    "x = np.array(lscores)  \n",
    "plt.hist(x)\n",
    "plt.xlabel('Scores')\n",
    "plt.ylabel('Frequency')\n",
    "plt.title('Lemmas Histogram')\n",
    "plt.xticks(np.arange(0, 1, 0.1))\n",
    "plt.show()"
   ]
  },
  {
   "cell_type": "markdown",
   "id": "112050ad",
   "metadata": {},
   "source": [
    "## Top range from 9 to  0.05"
   ]
  },
  {
   "cell_type": "code",
   "execution_count": 59,
   "id": "df17fb40",
   "metadata": {},
   "outputs": [
    {
     "name": "stdout",
     "output_type": "stream",
     "text": [
      "[('laser', 40), ('headlight', 28), ('beam', 12), ('led', 11), ('technology', 10), ('light', 10), ('high', 9), ('come', 7), ('automotive', 6), ('design', 6)]\n"
     ]
    }
   ],
   "source": [
    "interesting_lemmas = [token.lemma_.lower() for token in doc if we_care_about(token)]\n",
    "lemma_freq = Counter(interesting_lemmas)\n",
    "print(lemma_freq.most_common(10))"
   ]
  },
  {
   "cell_type": "code",
   "execution_count": 60,
   "id": "1eb48539",
   "metadata": {},
   "outputs": [
    {
     "data": {
      "text/plain": [
       "(array([[2., 0., 0., 0., 0., 0., 0., 0., 0., 0.],\n",
       "        [0., 2., 0., 0., 0., 0., 0., 0., 0., 0.],\n",
       "        [0., 0., 2., 0., 0., 0., 0., 0., 0., 0.],\n",
       "        [0., 0., 0., 1., 1., 0., 0., 0., 0., 0.],\n",
       "        [0., 0., 0., 0., 1., 1., 0., 0., 0., 0.],\n",
       "        [0., 0., 0., 0., 0., 2., 0., 0., 0., 0.],\n",
       "        [0., 0., 0., 0., 0., 0., 1., 1., 0., 0.],\n",
       "        [0., 0., 0., 0., 0., 0., 0., 1., 1., 0.],\n",
       "        [0., 0., 0., 0., 0., 0., 0., 0., 1., 1.],\n",
       "        [0., 0., 0., 0., 0., 0., 0., 0., 0., 2.]]),\n",
       " array([ 0. ,  1.7,  3.4,  5.1,  6.8,  8.5, 10.2, 11.9, 13.6, 15.3, 17. ]),\n",
       " <a list of 10 BarContainer objects>)"
      ]
     },
     "execution_count": 60,
     "metadata": {},
     "output_type": "execute_result"
    },
    {
     "data": {
      "image/png": "[encoded data removed]",
      "text/plain": [
       "<Figure size 432x288 with 1 Axes>"
      ]
     },
     "metadata": {
      "needs_background": "light"
     },
     "output_type": "display_data"
    }
   ],
   "source": [
    "## 7 Added for bonus. Make a list containing frequent words (using lemmas) of every sentence in the article, and plot a histogram with appropriate titles and axis labels of the scores. From your histogram, what seems to be the most common range of scores (put the answer in a comment after your code)?\n",
    "plt.xlabel('Common lemmas')\n",
    "plt.ylabel('Frequency')\n",
    "plt.title('Histogram of most common lemmas')\n",
    "plt.hist(lemma_freq.most_common(10))"
   ]
  },
  {
   "cell_type": "code",
   "execution_count": 61,
   "id": "e782b55b",
   "metadata": {},
   "outputs": [
    {
     "name": "stdout",
     "output_type": "stream",
     "text": [
      "{'led', 'beam', 'technology', 'laser', 'headlight'}\n"
     ]
    }
   ],
   "source": [
    "#8 Interesting words and lemmas\n",
    "cool_words = set()\n",
    "for lemma, freq in lemma_freq.most_common(5):\n",
    "    cool_words.add(lemma)\n",
    "print(cool_words)"
   ]
  },
  {
   "cell_type": "code",
   "execution_count": 62,
   "id": "0955d9a5",
   "metadata": {},
   "outputs": [
    {
     "name": "stdout",
     "output_type": "stream",
     "text": [
      "[('laser', 29), ('headlights', 17), ('technology', 10), ('headlight', 8), ('beam', 7)]\n"
     ]
    }
   ],
   "source": [
    "#8 Interesting words and lemmas as nouns\n",
    "noun_tokens = [token.text for token in doc if token.pos_ == \"NOUN\"]\n",
    "noun_freq = Counter(map(str,noun_tokens))\n",
    "print(noun_freq.most_common(5))"
   ]
  },
  {
   "cell_type": "markdown",
   "id": "ef578a7c",
   "metadata": {},
   "source": [
    "## 8 First five are nouns, laser, headlights, technology, beam."
   ]
  },
  {
   "cell_type": "code",
   "execution_count": null,
   "id": "547c69e7",
   "metadata": {},
   "outputs": [],
   "source": [
    "## 8 Which tokens and lexems would be ommitted from the lists generated in questions 3 and 4 if we only wanted to consider nouns as interesting words? How might we change the code to only consider nouns? Put your answer in this Markdown cell (you can edit it by double clicking it)."
   ]
  },
  {
   "cell_type": "code",
   "execution_count": 63,
   "id": "badc0fb4",
   "metadata": {},
   "outputs": [
    {
     "name": "stdout",
     "output_type": "stream",
     "text": [
      "['Natural', 'processinng', 'language', 'applications']\n"
     ]
    }
   ],
   "source": [
    "## 8 Addes for bonus:  Will need to tokenize using  nlkt, while searching some additional sources, \n",
    "## Pythons NLTK or ToolKit has a number of functions that allow us to extract various information from a text. found nltk to segragate nouns in a sentence for example:\n",
    "## Sample code\n",
    "import nltk\n",
    "lines = 'Natural processinng language applications are useful'\n",
    "# function to test if something is a noun\n",
    "is_noun = lambda pos: pos[:2] == 'NN'\n",
    "# do the nlp stuff\n",
    "tokenized = nltk.word_tokenize(lines)\n",
    "nouns = [word for (word, pos) in nltk.pos_tag(tokenized) if is_noun(pos)] \n",
    "\n",
    "print(nouns)\n"
   ]
  }
 ],
 "metadata": {
  "kernelspec": {
   "display_name": "Python 3 (ipykernel)",
   "language": "python",
   "name": "python3"
  },
  "language_info": {
   "codemirror_mode": {
    "name": "ipython",
    "version": 3
   },
   "file_extension": ".py",
   "mimetype": "text/x-python",
   "name": "python",
   "nbconvert_exporter": "python",
   "pygments_lexer": "ipython3",
   "version": "3.9.12"
  }
 },
 "nbformat": 4,
 "nbformat_minor": 5
}
